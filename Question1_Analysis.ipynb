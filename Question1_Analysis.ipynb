{
 "cells": [
  {
   "cell_type": "code",
   "execution_count": 1,
   "metadata": {},
   "outputs": [],
   "source": [
    "import pandas as pd\n",
    "import numpy as np\n",
    "import seaborn as sns\n",
    "import matplotlib.pyplot as plt\n",
    "import copy\n",
    "import datetime\n",
    "import statsmodels.api as sm\n",
    "from statsmodels.formula.api import ols\n",
    "import statsmodels\n",
    "from scipy import stats\n",
    "from pingouin import pairwise_ttests"
   ]
  },
  {
   "cell_type": "code",
   "execution_count": 2,
   "metadata": {},
   "outputs": [],
   "source": [
    "airlines=pd.read_csv('airlines.csv')\n",
    "airports=pd.read_csv('airports.csv',encoding = \"latin\")\n",
    "traffic = pd.read_csv('flight_traffic.csv')\n",
    "stock = pd.read_csv('stock_prices.csv')\n",
    "updated_events = pd.read_csv('event_dates_df.csv')"
   ]
  },
  {
   "cell_type": "markdown",
   "metadata": {},
   "source": [
    "### Work on getting the stock return for an airline on a particular day"
   ]
  },
  {
   "cell_type": "code",
   "execution_count": 3,
   "metadata": {},
   "outputs": [],
   "source": [
    "cols = ['AA', 'UA', 'B6', 'OO', 'AS', 'NK', 'WN', 'DL', 'HA']\n",
    "for i in cols:\n",
    "    stock['returns'+i] = stock[i][:-1].values / stock[i][1:] - 1"
   ]
  },
  {
   "cell_type": "code",
   "execution_count": 4,
   "metadata": {},
   "outputs": [],
   "source": [
    "stock_returns = stock[['timestamp','returnsAA', 'returnsUA', 'returnsB6', 'returnsOO', 'returnsAS', 'returnsNK', \n",
    "                       'returnsWN', 'returnsDL', 'returnsHA']]\n",
    "stock = stock[['timestamp','AA','UA','B6','OO','AS','NK','WN','DL','HA']]"
   ]
  },
  {
   "cell_type": "code",
   "execution_count": 5,
   "metadata": {},
   "outputs": [],
   "source": [
    "melted_st = pd.melt(stock,id_vars=['timestamp'],\n",
    "                        value_vars=['AA','UA','B6','OO','AS','NK','WN','DL','HA'],\n",
    "                        var_name='airline_codes',value_name='price')\n",
    "\n",
    "melted_rt = pd.melt(stock_returns,id_vars=['timestamp'],\n",
    "                        value_vars=['returnsAA', 'returnsUA', 'returnsB6', 'returnsOO', 'returnsAS', \n",
    "                                    'returnsNK', 'returnsWN', 'returnsDL', 'returnsHA'],\n",
    "                        var_name='airline_codes',value_name='returns')\n",
    "\n",
    "melted_rt['airline_codes'] = melted_rt['airline_codes'].apply(lambda x: x[-2:])\n",
    "melted_stock = pd.merge(melted_st, melted_rt, on=['airline_codes','timestamp'])"
   ]
  },
  {
   "cell_type": "code",
   "execution_count": 6,
   "metadata": {},
   "outputs": [],
   "source": [
    "melted_stock['year'] = pd.DatetimeIndex(melted_stock['timestamp']).year\n",
    "melted_stock['month'] = pd.DatetimeIndex(melted_stock['timestamp']).month\n",
    "melted_stock['day'] = pd.DatetimeIndex(melted_stock['timestamp']).day"
   ]
  },
  {
   "cell_type": "code",
   "execution_count": 7,
   "metadata": {},
   "outputs": [],
   "source": [
    "#Merge stock and traffic data\n",
    "stock_traffic = pd.merge(traffic, melted_stock, left_on=['year','month','day','airline_id'], \n",
    "                         right_on = ['year','month','day','airline_codes'])"
   ]
  },
  {
   "cell_type": "markdown",
   "metadata": {},
   "source": [
    "### Converting the scheduled arrival and departure in a cleaned format"
   ]
  },
  {
   "cell_type": "code",
   "execution_count": 8,
   "metadata": {},
   "outputs": [],
   "source": [
    "cols = stock_traffic.columns.difference(['year','month','day','airline_id','origin_airport','destination_airport',\n",
    "                                        'taxi_out','taxi_in','cancelled','diverted','scheduled_elapsed',\n",
    "                                         'actual_elapsed','distance', 'airline_delay', 'weather_delay',\n",
    "                                         'air_system_delay', 'security_delay', 'aircraft_delay', 'airline_codes',\n",
    "                                         'price', 'timestamp','returns'])"
   ]
  },
  {
   "cell_type": "code",
   "execution_count": 9,
   "metadata": {},
   "outputs": [],
   "source": [
    "for c in cols:\n",
    "    stock_traffic[c] = stock_traffic[c].fillna(0).astype('int32').astype(str)\n",
    "    stock_traffic[c] = stock_traffic[c].apply(lambda x: x.rjust(4,'0'))"
   ]
  },
  {
   "cell_type": "code",
   "execution_count": 10,
   "metadata": {},
   "outputs": [],
   "source": [
    "stock_traffic[cols] = stock_traffic[cols].apply(lambda x: pd.to_timedelta(x.str[:-2] + ':' + x.str[-2:] + ':00'))"
   ]
  },
  {
   "cell_type": "code",
   "execution_count": 11,
   "metadata": {},
   "outputs": [
    {
     "name": "stderr",
     "output_type": "stream",
     "text": [
      "/Users/dhams/Desktop/DS4A_workspace/venv/lib/python3.7/site-packages/ipykernel_launcher.py:2: FutureWarning: Passing timedelta64-dtype data is deprecated, will raise a TypeError in a future version\n",
      "  \n",
      "/Users/dhams/Desktop/DS4A_workspace/venv/lib/python3.7/site-packages/pandas/util/_decorators.py:208: FutureWarning: Passing timedelta64-dtype data is deprecated, will raise a TypeError in a future version\n",
      "  return func(*args, **kwargs)\n"
     ]
    }
   ],
   "source": [
    "for c in cols:\n",
    "    stock_traffic[c] = pd.to_datetime(stock_traffic[c]).apply(lambda x: datetime.datetime.time(x))"
   ]
  },
  {
   "cell_type": "code",
   "execution_count": 12,
   "metadata": {},
   "outputs": [],
   "source": [
    "stock_traffic = stock_traffic.drop(columns='airline_codes')"
   ]
  },
  {
   "cell_type": "markdown",
   "metadata": {},
   "source": [
    "### Substituting 0s in place of Nan in the delay column of the traffic"
   ]
  },
  {
   "cell_type": "code",
   "execution_count": 13,
   "metadata": {},
   "outputs": [],
   "source": [
    "columns = ['airline_delay', 'weather_delay','air_system_delay', 'security_delay', 'aircraft_delay']\n",
    "for c in columns:\n",
    "    stock_traffic[c] = stock_traffic[c].apply(lambda x: 0 if np.isnan(x) else x)"
   ]
  },
  {
   "cell_type": "code",
   "execution_count": 14,
   "metadata": {},
   "outputs": [
    {
     "data": {
      "text/plain": [
       "0         0.0\n",
       "1         0.0\n",
       "2         0.0\n",
       "3         0.0\n",
       "4         0.0\n",
       "         ... \n",
       "367986    0.0\n",
       "367987    0.0\n",
       "367988    0.0\n",
       "367989    0.0\n",
       "367990    0.0\n",
       "Length: 367991, dtype: float64"
      ]
     },
     "execution_count": 14,
     "metadata": {},
     "output_type": "execute_result"
    }
   ],
   "source": [
    "# Calulating the total delay time for a traffic\n",
    "stock_traffic['delay_time'] = stock_traffic['airline_delay']+stock_traffic['weather_delay']\n",
    "+stock_traffic['security_delay']+stock_traffic['air_system_delay']+stock_traffic['aircraft_delay']"
   ]
  },
  {
   "cell_type": "code",
   "execution_count": 110,
   "metadata": {},
   "outputs": [
    {
     "data": {
      "text/plain": [
       "Text(0.5, 1.0, 'Mean delay time for every flight on event days')"
      ]
     },
     "execution_count": 110,
     "metadata": {},
     "output_type": "execute_result"
    },
    {
     "data": {
      "image/png": "[encoded data removed]",
      "text/plain": [
       "<Figure size 864x504 with 2 Axes>"
      ]
     },
     "metadata": {
      "needs_background": "light"
     },
     "output_type": "display_data"
    }
   ],
   "source": [
    "mean_delay_noEvent = pd.DataFrame(stock_traffic.groupby('airline_id')['delay_time'].mean()\n",
    "                                .sort_values(ascending=False)).reset_index()\n",
    "mean_delay_Event = pd.DataFrame(updated_events.groupby('airline_id')['delay_time'].mean()\n",
    "                                .sort_values(ascending=False)).reset_index()\n",
    "\n",
    "a4_dims = (12, 7)\n",
    "fig, ax = plt.subplots(1,2,figsize=a4_dims)\n",
    "sns.barplot(x=\"airline_id\", y=\"delay_time\",palette=sns.color_palette(\"rocket\", 10), \n",
    "            data=mean_delay_noEvent,ax=ax[0]).set_title('Mean delay time for every flight on non-event days',size=16)\n",
    "sns.barplot(x=\"airline_id\", y=\"delay_time\", palette=\"rocket\",\n",
    "            data=mean_delay_noEvent,ax=ax[1]).set_title('Mean delay time for every flight on event days',size=16)"
   ]
  },
  {
   "cell_type": "code",
   "execution_count": 137,
   "metadata": {},
   "outputs": [
    {
     "data": {
      "text/plain": [
       "Text(0.5, 1.0, 'Stock Price distribution for event days')"
      ]
     },
     "execution_count": 137,
     "metadata": {},
     "output_type": "execute_result"
    },
    {
     "data": {
      "image/png": "[encoded data removed]",
      "text/plain": [
       "<Figure size 1440x720 with 2 Axes>"
      ]
     },
     "metadata": {},
     "output_type": "display_data"
    }
   ],
   "source": [
    "a4_dims = (20, 10)\n",
    "fig, ax = plt.subplots(1,2,figsize=a4_dims)\n",
    "sns.set(context='notebook', style='darkgrid', palette='deep', font='sans-serif', font_scale=1, color_codes='g', rc=None)\n",
    "sns.boxplot(x=\"airline_id\", y=\"price\", data=stock_traffic,ax=ax[0],palette=sns.color_palette(\"YlOrRd\", 10),\n",
    "            order=['AA','B6','DL','HA','NK','OO','UA','WN','AS']).set_title(\"Stock Price distribution for non-event days\")\n",
    "sns.boxplot(x=\"airline_id\", y=\"stock_price\", data=updated_events,ax=ax[1],palette=sns.color_palette(\"YlOrRd\", 10),\n",
    "            order=['AA','B6','DL','HA','NK','OO','UA','WN','AS']).set_title(\"Stock Price distribution for event days\")"
   ]
  },
  {
   "cell_type": "code",
   "execution_count": 119,
   "metadata": {},
   "outputs": [
    {
     "data": {
      "text/html": [
       "<div>\n",
       "<style scoped>\n",
       "    .dataframe tbody tr th:only-of-type {\n",
       "        vertical-align: middle;\n",
       "    }\n",
       "\n",
       "    .dataframe tbody tr th {\n",
       "        vertical-align: top;\n",
       "    }\n",
       "\n",
       "    .dataframe thead th {\n",
       "        text-align: right;\n",
       "    }\n",
       "</style>\n",
       "<table border=\"1\" class=\"dataframe\">\n",
       "  <thead>\n",
       "    <tr style=\"text-align: right;\">\n",
       "      <th></th>\n",
       "      <th>airline_id</th>\n",
       "      <th>event</th>\n",
       "      <th>no_event</th>\n",
       "    </tr>\n",
       "  </thead>\n",
       "  <tbody>\n",
       "    <tr>\n",
       "      <th>0</th>\n",
       "      <td>AA</td>\n",
       "      <td>0.000171</td>\n",
       "      <td>0.000748</td>\n",
       "    </tr>\n",
       "    <tr>\n",
       "      <th>1</th>\n",
       "      <td>AS</td>\n",
       "      <td>0.004086</td>\n",
       "      <td>-0.000610</td>\n",
       "    </tr>\n",
       "    <tr>\n",
       "      <th>2</th>\n",
       "      <td>B6</td>\n",
       "      <td>0.002343</td>\n",
       "      <td>0.000136</td>\n",
       "    </tr>\n",
       "    <tr>\n",
       "      <th>3</th>\n",
       "      <td>DL</td>\n",
       "      <td>0.001948</td>\n",
       "      <td>0.000655</td>\n",
       "    </tr>\n",
       "    <tr>\n",
       "      <th>4</th>\n",
       "      <td>HA</td>\n",
       "      <td>0.002997</td>\n",
       "      <td>-0.001789</td>\n",
       "    </tr>\n",
       "  </tbody>\n",
       "</table>\n",
       "</div>"
      ],
      "text/plain": [
       "  airline_id     event  no_event\n",
       "0         AA  0.000171  0.000748\n",
       "1         AS  0.004086 -0.000610\n",
       "2         B6  0.002343  0.000136\n",
       "3         DL  0.001948  0.000655\n",
       "4         HA  0.002997 -0.001789"
      ]
     },
     "execution_count": 119,
     "metadata": {},
     "output_type": "execute_result"
    }
   ],
   "source": [
    "mean_return_data = pd.merge(pd.DataFrame(updated_events.groupby('airline_id')['return'].mean()).reset_index(),\n",
    "                       pd.DataFrame(stock_traffic.groupby('airline_id')['returns'].mean()).reset_index(),\n",
    "                       on='airline_id')\n",
    "mean_return_data.columns = ['airline_id','event','no_event']\n",
    "mean_return_data.head()"
   ]
  },
  {
   "cell_type": "code",
   "execution_count": 53,
   "metadata": {},
   "outputs": [
    {
     "data": {
      "text/html": [
       "<div>\n",
       "<style scoped>\n",
       "    .dataframe tbody tr th:only-of-type {\n",
       "        vertical-align: middle;\n",
       "    }\n",
       "\n",
       "    .dataframe tbody tr th {\n",
       "        vertical-align: top;\n",
       "    }\n",
       "\n",
       "    .dataframe thead th {\n",
       "        text-align: right;\n",
       "    }\n",
       "</style>\n",
       "<table border=\"1\" class=\"dataframe\">\n",
       "  <thead>\n",
       "    <tr style=\"text-align: right;\">\n",
       "      <th></th>\n",
       "      <th>airline_id</th>\n",
       "      <th>type_of_day</th>\n",
       "      <th>returns</th>\n",
       "    </tr>\n",
       "  </thead>\n",
       "  <tbody>\n",
       "    <tr>\n",
       "      <th>0</th>\n",
       "      <td>AA</td>\n",
       "      <td>event</td>\n",
       "      <td>0.000171</td>\n",
       "    </tr>\n",
       "    <tr>\n",
       "      <th>1</th>\n",
       "      <td>AS</td>\n",
       "      <td>event</td>\n",
       "      <td>0.004086</td>\n",
       "    </tr>\n",
       "    <tr>\n",
       "      <th>2</th>\n",
       "      <td>B6</td>\n",
       "      <td>event</td>\n",
       "      <td>0.002343</td>\n",
       "    </tr>\n",
       "    <tr>\n",
       "      <th>3</th>\n",
       "      <td>DL</td>\n",
       "      <td>event</td>\n",
       "      <td>0.001948</td>\n",
       "    </tr>\n",
       "    <tr>\n",
       "      <th>4</th>\n",
       "      <td>HA</td>\n",
       "      <td>event</td>\n",
       "      <td>0.002997</td>\n",
       "    </tr>\n",
       "  </tbody>\n",
       "</table>\n",
       "</div>"
      ],
      "text/plain": [
       "  airline_id type_of_day   returns\n",
       "0         AA       event  0.000171\n",
       "1         AS       event  0.004086\n",
       "2         B6       event  0.002343\n",
       "3         DL       event  0.001948\n",
       "4         HA       event  0.002997"
      ]
     },
     "execution_count": 53,
     "metadata": {},
     "output_type": "execute_result"
    }
   ],
   "source": [
    "melted_return = pd.melt(mean_return_data,id_vars=['airline_id'],\n",
    "                        value_vars=['event','no_event'],\n",
    "                        var_name='type_of_day',value_name='returns')\n",
    "melted_return.head()"
   ]
  },
  {
   "cell_type": "code",
   "execution_count": 138,
   "metadata": {},
   "outputs": [
    {
     "data": {
      "text/plain": [
       "<seaborn.axisgrid.FacetGrid at 0x151a1cda0>"
      ]
     },
     "execution_count": 138,
     "metadata": {},
     "output_type": "execute_result"
    },
    {
     "data": {
      "image/png": "[encoded data removed]",
      "text/plain": [
       "<Figure size 1440x720 with 2 Axes>"
      ]
     },
     "metadata": {},
     "output_type": "display_data"
    }
   ],
   "source": [
    "g = sns.FacetGrid(melted_return, col=\"type_of_day\",hue='airline_id',height=10,palette=sns.color_palette(\"YlOrRd\", 10))\n",
    "g.map(plt.bar, \"airline_id\", \"returns\")"
   ]
  },
  {
   "cell_type": "code",
   "execution_count": null,
   "metadata": {},
   "outputs": [],
   "source": [
    "event = ['B6','DL','HA','NK','AS','OO']\n",
    "non_event=['AA','UA','WN']"
   ]
  },
  {
   "cell_type": "markdown",
   "metadata": {},
   "source": [
    "### Are the means return of the event and no event days groups significantly different? "
   ]
  },
  {
   "cell_type": "code",
   "execution_count": 38,
   "metadata": {},
   "outputs": [
    {
     "data": {
      "text/html": [
       "<div>\n",
       "<style scoped>\n",
       "    .dataframe tbody tr th:only-of-type {\n",
       "        vertical-align: middle;\n",
       "    }\n",
       "\n",
       "    .dataframe tbody tr th {\n",
       "        vertical-align: top;\n",
       "    }\n",
       "\n",
       "    .dataframe thead th {\n",
       "        text-align: right;\n",
       "    }\n",
       "</style>\n",
       "<table border=\"1\" class=\"dataframe\">\n",
       "  <thead>\n",
       "    <tr style=\"text-align: right;\">\n",
       "      <th></th>\n",
       "      <th>airline_id</th>\n",
       "      <th>airline_name</th>\n",
       "    </tr>\n",
       "  </thead>\n",
       "  <tbody>\n",
       "    <tr>\n",
       "      <th>3</th>\n",
       "      <td>WN</td>\n",
       "      <td>Southwest Airlines Co.</td>\n",
       "    </tr>\n",
       "  </tbody>\n",
       "</table>\n",
       "</div>"
      ],
      "text/plain": [
       "  airline_id            airline_name\n",
       "3         WN  Southwest Airlines Co."
      ]
     },
     "execution_count": 38,
     "metadata": {},
     "output_type": "execute_result"
    }
   ],
   "source": [
    "airlines[airlines['airline_id']=='WN']"
   ]
  },
  {
   "cell_type": "code",
   "execution_count": 23,
   "metadata": {},
   "outputs": [
    {
     "name": "stdout",
     "output_type": "stream",
     "text": [
      "P-value: 5.987237629108067e-08\n"
     ]
    }
   ],
   "source": [
    "## JetBlue B6:\n",
    "statistic, pvalue = stats.ttest_ind(stock_traffic[stock_traffic.airline_id=='B6']['returns'], \n",
    "                                    updated_events[updated_events.airline_id=='B6']['return'], equal_var=False)\n",
    "print(\"P-value:\",pvalue)"
   ]
  },
  {
   "cell_type": "code",
   "execution_count": 25,
   "metadata": {},
   "outputs": [
    {
     "name": "stdout",
     "output_type": "stream",
     "text": [
      "P-value: 5.951923196856152e-07\n"
     ]
    }
   ],
   "source": [
    "## Delta Airlines DL:\n",
    "statistic, pvalue = stats.ttest_ind(stock_traffic[stock_traffic.airline_id=='DL']['returns'], \n",
    "                                    updated_events[updated_events.airline_id=='DL']['return'], equal_var=False)\n",
    "print(\"P-value:\",pvalue)"
   ]
  },
  {
   "cell_type": "code",
   "execution_count": 27,
   "metadata": {},
   "outputs": [
    {
     "name": "stdout",
     "output_type": "stream",
     "text": [
      "P-value: 0.22609560431867037\n"
     ]
    }
   ],
   "source": [
    "## Hawaiian HA:\n",
    "statistic, pvalue = stats.ttest_ind(stock_traffic[stock_traffic.airline_id=='HA']['returns'], \n",
    "                                    updated_events[updated_events.airline_id=='HA']['return'], equal_var=False)\n",
    "print(\"P-value:\",pvalue)"
   ]
  },
  {
   "cell_type": "code",
   "execution_count": 29,
   "metadata": {},
   "outputs": [
    {
     "name": "stdout",
     "output_type": "stream",
     "text": [
      "P-value: 0.12588633046689335\n"
     ]
    }
   ],
   "source": [
    "## Spirit Airlines\n",
    "statistic, pvalue = stats.ttest_ind(stock_traffic[stock_traffic.airline_id=='NK']['returns'], \n",
    "                                    updated_events[updated_events.airline_id=='NK']['return'], equal_var=False)\n",
    "print(\"P-value:\",pvalue)"
   ]
  },
  {
   "cell_type": "code",
   "execution_count": 31,
   "metadata": {},
   "outputs": [
    {
     "name": "stdout",
     "output_type": "stream",
     "text": [
      "P-value: 2.166368135939707e-06\n"
     ]
    }
   ],
   "source": [
    "## Alaska AS\n",
    "statistic, pvalue = stats.ttest_ind(stock_traffic[stock_traffic.airline_id=='AS']['returns'], \n",
    "                                    updated_events[updated_events.airline_id=='AS']['return'], equal_var=False)\n",
    "print(\"P-value:\",pvalue)"
   ]
  },
  {
   "cell_type": "code",
   "execution_count": 33,
   "metadata": {},
   "outputs": [
    {
     "name": "stdout",
     "output_type": "stream",
     "text": [
      "P-value: 0.09424409127591074\n"
     ]
    }
   ],
   "source": [
    "## American AA\n",
    "statistic, pvalue = stats.ttest_ind(stock_traffic[stock_traffic.airline_id=='AA']['returns'], \n",
    "                                    updated_events[updated_events.airline_id=='AA']['return'], equal_var=False)\n",
    "print(\"P-value:\",pvalue)"
   ]
  },
  {
   "cell_type": "code",
   "execution_count": 35,
   "metadata": {},
   "outputs": [
    {
     "name": "stdout",
     "output_type": "stream",
     "text": [
      "P-value: 0.025225205181498924\n"
     ]
    }
   ],
   "source": [
    "## Skywest OO\n",
    "statistic, pvalue = stats.ttest_ind(stock_traffic[stock_traffic.airline_id=='OO']['returns'], \n",
    "                                    updated_events[updated_events.airline_id=='OO']['return'], equal_var=False)\n",
    "print(\"P-value:\",pvalue)"
   ]
  },
  {
   "cell_type": "code",
   "execution_count": 37,
   "metadata": {},
   "outputs": [
    {
     "name": "stdout",
     "output_type": "stream",
     "text": [
      "P-value: 0.0007367729225862906\n"
     ]
    }
   ],
   "source": [
    "## United UA\n",
    "statistic, pvalue = stats.ttest_ind(stock_traffic[stock_traffic.airline_id=='UA']['returns'], \n",
    "                                    updated_events[updated_events.airline_id=='UA']['return'], equal_var=False)\n",
    "print(\"P-value:\",pvalue)"
   ]
  },
  {
   "cell_type": "code",
   "execution_count": 39,
   "metadata": {},
   "outputs": [
    {
     "name": "stdout",
     "output_type": "stream",
     "text": [
      "P-value: 2.3297185332180505e-06\n"
     ]
    }
   ],
   "source": [
    "## Southwest WN\n",
    "statistic, pvalue = stats.ttest_ind(stock_traffic[stock_traffic.airline_id=='WN']['returns'], \n",
    "                                    updated_events[updated_events.airline_id=='WN']['return'], equal_var=False)\n",
    "print(\"P-value:\",pvalue)"
   ]
  },
  {
   "cell_type": "markdown",
   "metadata": {},
   "source": [
    "Statistical difference of the mean return between event and non-event days are for airlines - JetBlue, Delta, Alaska, Skywest, United and Southwest Airlines. For JetBlue, Delta, Alaska, Skywest mean stock return is better for event days while for United and Southwest we have better stock returns for non-event days."
   ]
  },
  {
   "cell_type": "code",
   "execution_count": 72,
   "metadata": {},
   "outputs": [
    {
     "data": {
      "text/html": [
       "<div>\n",
       "<style scoped>\n",
       "    .dataframe tbody tr th:only-of-type {\n",
       "        vertical-align: middle;\n",
       "    }\n",
       "\n",
       "    .dataframe tbody tr th {\n",
       "        vertical-align: top;\n",
       "    }\n",
       "\n",
       "    .dataframe thead th {\n",
       "        text-align: right;\n",
       "    }\n",
       "</style>\n",
       "<table border=\"1\" class=\"dataframe\">\n",
       "  <thead>\n",
       "    <tr style=\"text-align: right;\">\n",
       "      <th></th>\n",
       "      <th>airline_id</th>\n",
       "      <th>return</th>\n",
       "      <th>delay_time</th>\n",
       "    </tr>\n",
       "  </thead>\n",
       "  <tbody>\n",
       "    <tr>\n",
       "      <th>5154</th>\n",
       "      <td>B6</td>\n",
       "      <td>-0.004632</td>\n",
       "      <td>0.0</td>\n",
       "    </tr>\n",
       "    <tr>\n",
       "      <th>5155</th>\n",
       "      <td>B6</td>\n",
       "      <td>-0.004632</td>\n",
       "      <td>0.0</td>\n",
       "    </tr>\n",
       "    <tr>\n",
       "      <th>5156</th>\n",
       "      <td>B6</td>\n",
       "      <td>-0.004632</td>\n",
       "      <td>0.0</td>\n",
       "    </tr>\n",
       "    <tr>\n",
       "      <th>5157</th>\n",
       "      <td>B6</td>\n",
       "      <td>-0.027039</td>\n",
       "      <td>164.0</td>\n",
       "    </tr>\n",
       "    <tr>\n",
       "      <th>5158</th>\n",
       "      <td>B6</td>\n",
       "      <td>-0.027039</td>\n",
       "      <td>0.0</td>\n",
       "    </tr>\n",
       "  </tbody>\n",
       "</table>\n",
       "</div>"
      ],
      "text/plain": [
       "     airline_id    return  delay_time\n",
       "5154         B6 -0.004632         0.0\n",
       "5155         B6 -0.004632         0.0\n",
       "5156         B6 -0.004632         0.0\n",
       "5157         B6 -0.027039       164.0\n",
       "5158         B6 -0.027039         0.0"
      ]
     },
     "execution_count": 72,
     "metadata": {},
     "output_type": "execute_result"
    }
   ],
   "source": [
    "event_subset = updated_events[['airline_id','return','delay_time']]\n",
    "event_subset = event_subset.loc[event_subset['airline_id'].isin(['B6','DL','AS','OO'])]\n",
    "event_subset.head()"
   ]
  },
  {
   "cell_type": "code",
   "execution_count": 74,
   "metadata": {},
   "outputs": [],
   "source": [
    "delayEvent = event_subset[event_subset.delay_time>30]\n",
    "noDelayEvent = event_subset[event_subset.delay_time<=30]"
   ]
  },
  {
   "cell_type": "code",
   "execution_count": 75,
   "metadata": {},
   "outputs": [
    {
     "data": {
      "text/html": [
       "<div>\n",
       "<style scoped>\n",
       "    .dataframe tbody tr th:only-of-type {\n",
       "        vertical-align: middle;\n",
       "    }\n",
       "\n",
       "    .dataframe tbody tr th {\n",
       "        vertical-align: top;\n",
       "    }\n",
       "\n",
       "    .dataframe thead th {\n",
       "        text-align: right;\n",
       "    }\n",
       "</style>\n",
       "<table border=\"1\" class=\"dataframe\">\n",
       "  <thead>\n",
       "    <tr style=\"text-align: right;\">\n",
       "      <th></th>\n",
       "      <th>airline_id</th>\n",
       "      <th>delayed</th>\n",
       "      <th>returns</th>\n",
       "    </tr>\n",
       "  </thead>\n",
       "  <tbody>\n",
       "    <tr>\n",
       "      <th>0</th>\n",
       "      <td>AS</td>\n",
       "      <td>Yes</td>\n",
       "      <td>0.006125</td>\n",
       "    </tr>\n",
       "    <tr>\n",
       "      <th>1</th>\n",
       "      <td>B6</td>\n",
       "      <td>Yes</td>\n",
       "      <td>0.004255</td>\n",
       "    </tr>\n",
       "    <tr>\n",
       "      <th>2</th>\n",
       "      <td>DL</td>\n",
       "      <td>Yes</td>\n",
       "      <td>0.002720</td>\n",
       "    </tr>\n",
       "    <tr>\n",
       "      <th>3</th>\n",
       "      <td>OO</td>\n",
       "      <td>Yes</td>\n",
       "      <td>0.001226</td>\n",
       "    </tr>\n",
       "    <tr>\n",
       "      <th>4</th>\n",
       "      <td>AS</td>\n",
       "      <td>No</td>\n",
       "      <td>0.003845</td>\n",
       "    </tr>\n",
       "  </tbody>\n",
       "</table>\n",
       "</div>"
      ],
      "text/plain": [
       "  airline_id delayed   returns\n",
       "0         AS     Yes  0.006125\n",
       "1         B6     Yes  0.004255\n",
       "2         DL     Yes  0.002720\n",
       "3         OO     Yes  0.001226\n",
       "4         AS      No  0.003845"
      ]
     },
     "execution_count": 75,
     "metadata": {},
     "output_type": "execute_result"
    }
   ],
   "source": [
    "mean_delayEvent = delayEvent.groupby('airline_id')['return'].mean().reset_index()\n",
    "mean_delayEvent.columns = ['airline_id','Yes']\n",
    "mean_noDelayEvent = noDelayEvent.groupby('airline_id')['return'].mean().reset_index()\n",
    "mean_noDelayEvent.columns = ['airline_id','No']\n",
    "melted_delays = pd.melt(pd.merge(mean_delayEvent,mean_noDelayEvent,on='airline_id'),id_vars=['airline_id'],\n",
    "                        value_vars=['Yes','No'],\n",
    "                        var_name='delayed',value_name='returns')\n",
    "melted_delays.head()"
   ]
  },
  {
   "cell_type": "code",
   "execution_count": 142,
   "metadata": {},
   "outputs": [
    {
     "data": {
      "text/plain": [
       "<seaborn.axisgrid.FacetGrid at 0x1554a28d0>"
      ]
     },
     "execution_count": 142,
     "metadata": {},
     "output_type": "execute_result"
    },
    {
     "data": {
      "image/png": "[encoded data removed]",
      "text/plain": [
       "<Figure size 1440x720 with 2 Axes>"
      ]
     },
     "metadata": {},
     "output_type": "display_data"
    }
   ],
   "source": [
    "g = sns.FacetGrid(melted_delays, col=\"delayed\",hue='airline_id',height=10,palette=sns.color_palette(\"OrRd\", 5))\n",
    "g.map(plt.bar, \"airline_id\", \"returns\")"
   ]
  },
  {
   "cell_type": "code",
   "execution_count": 78,
   "metadata": {},
   "outputs": [
    {
     "name": "stdout",
     "output_type": "stream",
     "text": [
      "P-value: 0.43432756379007564\n"
     ]
    }
   ],
   "source": [
    "statistic, pvalue = stats.ttest_ind(delayEvent[delayEvent.airline_id=='AS']['return'], \n",
    "                                    noDelayEvent[noDelayEvent.airline_id=='AS']['return'], equal_var=False)\n",
    "print(\"P-value:\",pvalue)"
   ]
  },
  {
   "cell_type": "code",
   "execution_count": 79,
   "metadata": {},
   "outputs": [
    {
     "name": "stdout",
     "output_type": "stream",
     "text": [
      "P-value: 0.008899281383025778\n"
     ]
    }
   ],
   "source": [
    "statistic, pvalue = stats.ttest_ind(delayEvent[delayEvent.airline_id=='B6']['return'], \n",
    "                                    noDelayEvent[noDelayEvent.airline_id=='B6']['return'], equal_var=False)\n",
    "print(\"P-value:\",pvalue)"
   ]
  },
  {
   "cell_type": "code",
   "execution_count": 80,
   "metadata": {},
   "outputs": [
    {
     "name": "stdout",
     "output_type": "stream",
     "text": [
      "P-value: 0.25704876950980426\n"
     ]
    }
   ],
   "source": [
    "statistic, pvalue = stats.ttest_ind(delayEvent[delayEvent.airline_id=='DL']['return'], \n",
    "                                    noDelayEvent[noDelayEvent.airline_id=='DL']['return'], equal_var=False)\n",
    "print(\"P-value:\",pvalue)"
   ]
  },
  {
   "cell_type": "code",
   "execution_count": 81,
   "metadata": {},
   "outputs": [
    {
     "name": "stdout",
     "output_type": "stream",
     "text": [
      "P-value: 0.19691852997220097\n"
     ]
    }
   ],
   "source": [
    "statistic, pvalue = stats.ttest_ind(delayEvent[delayEvent.airline_id=='OO']['return'], \n",
    "                                    noDelayEvent[noDelayEvent.airline_id=='OO']['return'], equal_var=False)\n",
    "print(\"P-value:\",pvalue)"
   ]
  },
  {
   "cell_type": "code",
   "execution_count": 84,
   "metadata": {},
   "outputs": [
    {
     "data": {
      "text/plain": [
       "array([0.        , 0.09090909, 0.06666667, 1.        , 0.2       ,\n",
       "       0.04761905, 0.14285714, 0.33333333, 0.5       , 0.18181818,\n",
       "       0.08333333, 0.0625    , 0.07142857, 0.23076923, 0.11764706,\n",
       "       0.07692308, 0.26666667, 0.16666667, 0.125     , 0.66666667,\n",
       "       0.21428571, 0.375     , 0.25      , 0.1       , 0.35714286,\n",
       "       0.41176471, 0.05882353, 0.11111111, 0.10526316, 0.15384615,\n",
       "       0.03846154, 0.05555556, 0.58823529, 0.4       , 0.03030303,\n",
       "       0.36363636, 0.13333333, 0.04347826, 0.03225806, 0.05263158,\n",
       "       0.75      , 0.22222222, 0.46153846, 0.27777778, 0.78571429,\n",
       "       0.15789474])"
      ]
     },
     "execution_count": 84,
     "metadata": {},
     "output_type": "execute_result"
    }
   ],
   "source": [
    "updated_events['cancel_rate'].unique()"
   ]
  },
  {
   "cell_type": "code",
   "execution_count": 95,
   "metadata": {},
   "outputs": [
    {
     "data": {
      "text/html": [
       "<div>\n",
       "<style scoped>\n",
       "    .dataframe tbody tr th:only-of-type {\n",
       "        vertical-align: middle;\n",
       "    }\n",
       "\n",
       "    .dataframe tbody tr th {\n",
       "        vertical-align: top;\n",
       "    }\n",
       "\n",
       "    .dataframe thead th {\n",
       "        text-align: right;\n",
       "    }\n",
       "</style>\n",
       "<table border=\"1\" class=\"dataframe\">\n",
       "  <thead>\n",
       "    <tr style=\"text-align: right;\">\n",
       "      <th></th>\n",
       "      <th>airline_id</th>\n",
       "      <th>returns</th>\n",
       "      <th>delay_time</th>\n",
       "    </tr>\n",
       "  </thead>\n",
       "  <tbody>\n",
       "    <tr>\n",
       "      <th>11221</th>\n",
       "      <td>UA</td>\n",
       "      <td>-0.036281</td>\n",
       "      <td>0.0</td>\n",
       "    </tr>\n",
       "    <tr>\n",
       "      <th>11222</th>\n",
       "      <td>UA</td>\n",
       "      <td>-0.036281</td>\n",
       "      <td>0.0</td>\n",
       "    </tr>\n",
       "    <tr>\n",
       "      <th>11223</th>\n",
       "      <td>UA</td>\n",
       "      <td>-0.036281</td>\n",
       "      <td>0.0</td>\n",
       "    </tr>\n",
       "    <tr>\n",
       "      <th>11224</th>\n",
       "      <td>UA</td>\n",
       "      <td>-0.036281</td>\n",
       "      <td>0.0</td>\n",
       "    </tr>\n",
       "    <tr>\n",
       "      <th>11225</th>\n",
       "      <td>UA</td>\n",
       "      <td>-0.036281</td>\n",
       "      <td>0.0</td>\n",
       "    </tr>\n",
       "  </tbody>\n",
       "</table>\n",
       "</div>"
      ],
      "text/plain": [
       "      airline_id   returns  delay_time\n",
       "11221         UA -0.036281         0.0\n",
       "11222         UA -0.036281         0.0\n",
       "11223         UA -0.036281         0.0\n",
       "11224         UA -0.036281         0.0\n",
       "11225         UA -0.036281         0.0"
      ]
     },
     "execution_count": 95,
     "metadata": {},
     "output_type": "execute_result"
    }
   ],
   "source": [
    "no_event_subset = stock_traffic[['airline_id','returns','delay_time']]\n",
    "no_event_subset = no_event_subset.loc[no_event_subset['airline_id'].isin(['UA','WN'])]\n",
    "no_event_subset.head()"
   ]
  },
  {
   "cell_type": "code",
   "execution_count": 96,
   "metadata": {},
   "outputs": [],
   "source": [
    "delayNoEvent = no_event_subset[no_event_subset.delay_time>30]\n",
    "noDelayNoEvent = no_event_subset[no_event_subset.delay_time<=30]"
   ]
  },
  {
   "cell_type": "code",
   "execution_count": 97,
   "metadata": {},
   "outputs": [
    {
     "data": {
      "text/html": [
       "<div>\n",
       "<style scoped>\n",
       "    .dataframe tbody tr th:only-of-type {\n",
       "        vertical-align: middle;\n",
       "    }\n",
       "\n",
       "    .dataframe tbody tr th {\n",
       "        vertical-align: top;\n",
       "    }\n",
       "\n",
       "    .dataframe thead th {\n",
       "        text-align: right;\n",
       "    }\n",
       "</style>\n",
       "<table border=\"1\" class=\"dataframe\">\n",
       "  <thead>\n",
       "    <tr style=\"text-align: right;\">\n",
       "      <th></th>\n",
       "      <th>airline_id</th>\n",
       "      <th>delayed</th>\n",
       "      <th>returns</th>\n",
       "    </tr>\n",
       "  </thead>\n",
       "  <tbody>\n",
       "    <tr>\n",
       "      <th>0</th>\n",
       "      <td>UA</td>\n",
       "      <td>Yes</td>\n",
       "      <td>-0.000230</td>\n",
       "    </tr>\n",
       "    <tr>\n",
       "      <th>1</th>\n",
       "      <td>WN</td>\n",
       "      <td>Yes</td>\n",
       "      <td>-0.000153</td>\n",
       "    </tr>\n",
       "    <tr>\n",
       "      <th>2</th>\n",
       "      <td>UA</td>\n",
       "      <td>No</td>\n",
       "      <td>-0.000074</td>\n",
       "    </tr>\n",
       "    <tr>\n",
       "      <th>3</th>\n",
       "      <td>WN</td>\n",
       "      <td>No</td>\n",
       "      <td>0.001288</td>\n",
       "    </tr>\n",
       "  </tbody>\n",
       "</table>\n",
       "</div>"
      ],
      "text/plain": [
       "  airline_id delayed   returns\n",
       "0         UA     Yes -0.000230\n",
       "1         WN     Yes -0.000153\n",
       "2         UA      No -0.000074\n",
       "3         WN      No  0.001288"
      ]
     },
     "execution_count": 97,
     "metadata": {},
     "output_type": "execute_result"
    }
   ],
   "source": [
    "mean_delayNoEvent = delayNoEvent.groupby('airline_id')['returns'].mean().reset_index()\n",
    "mean_delayNoEvent.columns = ['airline_id','Yes']\n",
    "mean_noDelayNoEvent = noDelayNoEvent.groupby('airline_id')['returns'].mean().reset_index()\n",
    "mean_noDelayNoEvent.columns = ['airline_id','No']\n",
    "melted_Nodelays = pd.melt(pd.merge(mean_delayNoEvent,mean_noDelayNoEvent,on='airline_id'),id_vars=['airline_id'],\n",
    "                        value_vars=['Yes','No'],\n",
    "                        var_name='delayed',value_name='returns')\n",
    "melted_Nodelays.head()"
   ]
  },
  {
   "cell_type": "code",
   "execution_count": 147,
   "metadata": {},
   "outputs": [
    {
     "data": {
      "text/plain": [
       "<seaborn.axisgrid.FacetGrid at 0x156aaba58>"
      ]
     },
     "execution_count": 147,
     "metadata": {},
     "output_type": "execute_result"
    },
    {
     "data": {
      "image/png": "[encoded data removed]",
      "text/plain": [
       "<Figure size 720x360 with 2 Axes>"
      ]
     },
     "metadata": {},
     "output_type": "display_data"
    }
   ],
   "source": [
    "g = sns.FacetGrid(melted_Nodelays, col=\"delayed\",hue='airline_id',height=5,palette=sns.color_palette(\"OrRd\", 2))\n",
    "g.map(plt.bar, \"airline_id\", \"returns\")"
   ]
  },
  {
   "cell_type": "code",
   "execution_count": 99,
   "metadata": {},
   "outputs": [
    {
     "name": "stdout",
     "output_type": "stream",
     "text": [
      "P-value: 0.7660978536536829\n"
     ]
    }
   ],
   "source": [
    "statistic, pvalue = stats.ttest_ind(delayNoEvent[delayNoEvent.airline_id=='UA']['returns'], \n",
    "                                    noDelayNoEvent[noDelayNoEvent.airline_id=='UA']['returns'], equal_var=False)\n",
    "print(\"P-value:\",pvalue)"
   ]
  },
  {
   "cell_type": "code",
   "execution_count": 101,
   "metadata": {},
   "outputs": [
    {
     "name": "stdout",
     "output_type": "stream",
     "text": [
      "P-value: 1.0335695874534994e-06\n"
     ]
    }
   ],
   "source": [
    "statistic, pvalue = stats.ttest_ind(delayNoEvent[delayNoEvent.airline_id=='WN']['returns'], \n",
    "                                    noDelayNoEvent[noDelayNoEvent.airline_id=='WN']['returns'], equal_var=False)\n",
    "print(\"P-value:\",pvalue)"
   ]
  },
  {
   "cell_type": "code",
   "execution_count": null,
   "metadata": {},
   "outputs": [],
   "source": []
  }
 ],
 "metadata": {
  "kernelspec": {
   "display_name": "venv",
   "language": "python",
   "name": "venv"
  },
  "language_info": {
   "codemirror_mode": {
    "name": "ipython",
    "version": 3
   },
   "file_extension": ".py",
   "mimetype": "text/x-python",
   "name": "python",
   "nbconvert_exporter": "python",
   "pygments_lexer": "ipython3",
   "version": "3.7.0"
  }
 },
 "nbformat": 4,
 "nbformat_minor": 2
}
